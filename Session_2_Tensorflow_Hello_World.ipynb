{
  "nbformat": 4,
  "nbformat_minor": 0,
  "metadata": {
    "colab": {
      "name": "Session_2_Tensorflow_Hello_World.ipynb",
      "version": "0.3.2",
      "provenance": [],
      "include_colab_link": true
    },
    "kernelspec": {
      "display_name": "Python 3",
      "language": "python",
      "name": "python3"
    }
  },
  "cells": [
    {
      "cell_type": "markdown",
      "metadata": {
        "id": "view-in-github",
        "colab_type": "text"
      },
      "source": [
        "<a href=\"https://colab.research.google.com/github/EdukondaluK/Customer-Segments/blob/master/Session_2_Tensorflow_Hello_World.ipynb\" target=\"_parent\"><img src=\"https://colab.research.google.com/assets/colab-badge.svg\" alt=\"Open In Colab\"/></a>"
      ]
    },
    {
      "metadata": {
        "id": "10-RRhyMWEVM",
        "colab_type": "text"
      },
      "cell_type": "markdown",
      "source": [
        "### Load tensorflow"
      ]
    },
    {
      "metadata": {
        "id": "q8A-k822WEVS",
        "colab_type": "code",
        "colab": {}
      },
      "cell_type": "code",
      "source": [
        "import tensorflow as tf"
      ],
      "execution_count": 0,
      "outputs": []
    },
    {
      "metadata": {
        "id": "ul9ayITXWEVa",
        "colab_type": "code",
        "colab": {}
      },
      "cell_type": "code",
      "source": [
        "tf.__version__"
      ],
      "execution_count": 0,
      "outputs": []
    },
    {
      "metadata": {
        "id": "HP8tUmJiWEVg",
        "colab_type": "text"
      },
      "cell_type": "markdown",
      "source": [
        "### Create a constant tensor"
      ]
    },
    {
      "metadata": {
        "id": "Z0ho11wPWEVi",
        "colab_type": "code",
        "colab": {}
      },
      "cell_type": "code",
      "source": [
        "hello = tf.constant('Hello World')"
      ],
      "execution_count": 0,
      "outputs": []
    },
    {
      "metadata": {
        "scrolled": true,
        "id": "Z-8k2IVfWEVo",
        "colab_type": "code",
        "colab": {}
      },
      "cell_type": "code",
      "source": [
        "print(hello)"
      ],
      "execution_count": 0,
      "outputs": []
    },
    {
      "metadata": {
        "id": "bOGDdwGdWEVt",
        "colab_type": "text"
      },
      "cell_type": "markdown",
      "source": [
        "### Defining shape"
      ]
    },
    {
      "metadata": {
        "id": "mpLIdh54WEVv",
        "colab_type": "code",
        "colab": {}
      },
      "cell_type": "code",
      "source": [
        "hello_2 =  tf.constant('Hello World', shape=[6,2], name='hello')\n",
        "print(hello_2)"
      ],
      "execution_count": 0,
      "outputs": []
    },
    {
      "metadata": {
        "id": "E-wlvCihWEV0",
        "colab_type": "code",
        "colab": {}
      },
      "cell_type": "code",
      "source": [
        "hello_3 =  tf.constant('Hello World', shape=[6,2], name='hello')\n",
        "print(hello_3)"
      ],
      "execution_count": 0,
      "outputs": []
    },
    {
      "metadata": {
        "id": "OqV2fGyNWEV6",
        "colab_type": "code",
        "colab": {}
      },
      "cell_type": "code",
      "source": [
        "a = tf.constant([1.2])\n",
        "b = tf.constant([3.4])\n",
        "c = tf.add(a,b)\n",
        "print(c)"
      ],
      "execution_count": 0,
      "outputs": []
    },
    {
      "metadata": {
        "id": "sGhn3CcpWEV-",
        "colab_type": "text"
      },
      "cell_type": "markdown",
      "source": [
        "<center><h2>How do I print Hello World</h2></center>"
      ]
    },
    {
      "metadata": {
        "id": "Lndr4b__WEWB",
        "colab_type": "text"
      },
      "cell_type": "markdown",
      "source": [
        "Start a session"
      ]
    },
    {
      "metadata": {
        "id": "8WTncXlcWEWE",
        "colab_type": "code",
        "colab": {}
      },
      "cell_type": "code",
      "source": [
        "sess = tf.Session()"
      ],
      "execution_count": 0,
      "outputs": []
    },
    {
      "metadata": {
        "id": "JFcAa8zLWEWL",
        "colab_type": "code",
        "colab": {}
      },
      "cell_type": "code",
      "source": [
        "print(sess.run(hello))"
      ],
      "execution_count": 0,
      "outputs": []
    },
    {
      "metadata": {
        "id": "GhoqZpxMWEWQ",
        "colab_type": "code",
        "colab": {}
      },
      "cell_type": "code",
      "source": [
        "print(sess.run(hello_2))"
      ],
      "execution_count": 0,
      "outputs": []
    },
    {
      "metadata": {
        "id": "i5litKTbWEWV",
        "colab_type": "code",
        "colab": {}
      },
      "cell_type": "code",
      "source": [
        "print(sess.run(c))"
      ],
      "execution_count": 0,
      "outputs": []
    },
    {
      "metadata": {
        "id": "DZPslICaWEWb",
        "colab_type": "text"
      },
      "cell_type": "markdown",
      "source": [
        "Close the session"
      ]
    },
    {
      "metadata": {
        "id": "2q5oki_kWEWj",
        "colab_type": "code",
        "colab": {}
      },
      "cell_type": "code",
      "source": [
        "sess.close()"
      ],
      "execution_count": 0,
      "outputs": []
    },
    {
      "metadata": {
        "id": "-80-Of8sWEWr",
        "colab_type": "code",
        "colab": {}
      },
      "cell_type": "code",
      "source": [
        "with tf.Session() as sess:\n",
        "    print(sess.run([hello, hello_2, c]))"
      ],
      "execution_count": 0,
      "outputs": []
    }
  ]
}